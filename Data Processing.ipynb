{
 "cells": [
  {
   "cell_type": "code",
   "execution_count": 1,
   "metadata": {},
   "outputs": [],
   "source": [
    "# Import Necessary Packages\n",
    "\n",
    "from tensorflow.keras.preprocessing.image import load_img, img_to_array\n",
    "from tensorflow.keras.applications.mobilenet_v2 import preprocess_input\n",
    "from imutils import paths\n",
    "import numpy as np\n",
    "import time\n",
    "import os"
   ]
  },
  {
   "cell_type": "code",
   "execution_count": 2,
   "metadata": {},
   "outputs": [
    {
     "name": "stdout",
     "output_type": "stream",
     "text": [
      "Progress : 0.026% in 0.0002 seconds\n",
      "Progress : 13.071% in 6.5281 seconds\n",
      "Progress : 26.115% in 13.7946 seconds\n"
     ]
    },
    {
     "name": "stderr",
     "output_type": "stream",
     "text": [
      "/home/ashay/.local/lib/python3.7/site-packages/PIL/Image.py:961: UserWarning: Palette images with Transparency expressed in bytes should be converted to RGBA images\n",
      "  \"Palette images with Transparency expressed in bytes should be \"\n"
     ]
    },
    {
     "name": "stdout",
     "output_type": "stream",
     "text": [
      "Progress : 39.160% in 20.1600 seconds\n",
      "Progress : 52.205% in 25.6608 seconds\n",
      "Progress : 65.249% in 29.3276 seconds\n",
      "Progress : 78.294% in 33.3597 seconds\n",
      "Progress : 91.338% in 37.0546 seconds\n",
      "Progress : 100.000% in 38.7889 seconds\n"
     ]
    }
   ],
   "source": [
    "# Load Images\n",
    "\n",
    "images = list(paths.list_images(\"dataset\"))\n",
    "x = []\n",
    "Y = []\n",
    "\n",
    "tick = time.time()\n",
    "for i,image in enumerate(images):\n",
    "    if i%500 == 0:\n",
    "        print('Progress : {:.3f}% in {:.4f} seconds'.format((i+1)/len(images)*100 , time.time()-tick))\n",
    "    label = image.split(os.path.sep)[-2]\n",
    "    \n",
    "    img = load_img(image, target_size=(100,100))\n",
    "    img = img_to_array(img)\n",
    "    img = preprocess_input(img)\n",
    "    \n",
    "    x.append(img)\n",
    "    Y.append(label)\n",
    "print('Progress : 100.000% in {:.4f} seconds'.format(time.time()-tick))"
   ]
  },
  {
   "cell_type": "code",
   "execution_count": 3,
   "metadata": {},
   "outputs": [
    {
     "name": "stdout",
     "output_type": "stream",
     "text": [
      "Operation Completed\n"
     ]
    }
   ],
   "source": [
    "x_arr = np.array(x, dtype='float32')\n",
    "y_arr = np.array(Y)\n",
    "\n",
    "np.save('X_RAW.npy', x_arr)\n",
    "np.save('Y_RAW.npy', y_arr)\n",
    "print(\"Operation Completed\")"
   ]
  },
  {
   "cell_type": "code",
   "execution_count": 4,
   "metadata": {},
   "outputs": [
    {
     "data": {
      "text/plain": [
       "(3833, 100, 100, 3)"
      ]
     },
     "execution_count": 4,
     "metadata": {},
     "output_type": "execute_result"
    }
   ],
   "source": [
    "x_arr.shape"
   ]
  },
  {
   "cell_type": "code",
   "execution_count": 5,
   "metadata": {},
   "outputs": [
    {
     "data": {
      "text/plain": [
       "(3833,)"
      ]
     },
     "execution_count": 5,
     "metadata": {},
     "output_type": "execute_result"
    }
   ],
   "source": [
    "y_arr.shape"
   ]
  }
 ],
 "metadata": {
  "kernelspec": {
   "display_name": "Python 3",
   "language": "python",
   "name": "python3"
  },
  "language_info": {
   "codemirror_mode": {
    "name": "ipython",
    "version": 3
   },
   "file_extension": ".py",
   "mimetype": "text/x-python",
   "name": "python",
   "nbconvert_exporter": "python",
   "pygments_lexer": "ipython3",
   "version": "3.7.4"
  }
 },
 "nbformat": 4,
 "nbformat_minor": 2
}
