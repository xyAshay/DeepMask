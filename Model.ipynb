{
 "cells": [
  {
   "cell_type": "code",
   "execution_count": 1,
   "metadata": {},
   "outputs": [],
   "source": [
    "# Importing Necessary Packages \n",
    "\n",
    "from tensorflow.keras.applications import MobileNetV2\n",
    "from tensorflow.keras.callbacks import ModelCheckpoint\n",
    "from tensorflow.keras.layers import Input, AveragePooling2D, Dense, Flatten, Dropout\n",
    "from tensorflow.keras.models import Model\n",
    "from tensorflow.keras.optimizers import Adam\n",
    "from sklearn.model_selection import train_test_split\n",
    "import matplotlib.pyplot as plt\n",
    "import numpy as np"
   ]
  },
  {
   "cell_type": "code",
   "execution_count": 2,
   "metadata": {},
   "outputs": [],
   "source": [
    "# Set Global Values\n",
    "LEARNING_RATE = 1e-5\n",
    "EPOCHS = 15\n",
    "BATCH_SIZE = 32\n",
    "OPTR = Adam(lr=LEARNING_RATE, decay=LEARNING_RATE / EPOCHS)"
   ]
  },
  {
   "cell_type": "code",
   "execution_count": 3,
   "metadata": {},
   "outputs": [
    {
     "name": "stdout",
     "output_type": "stream",
     "text": [
      "(3833, 100, 100, 3)\n",
      "(3833, 2)\n"
     ]
    }
   ],
   "source": [
    "# Retrieve data from disc\n",
    "\n",
    "x = np.load('X_RAW.npy')\n",
    "Y = np.load('Y_RAW.npy')\n",
    "\n",
    "print(x.shape)\n",
    "print(Y.shape)"
   ]
  },
  {
   "cell_type": "code",
   "execution_count": 4,
   "metadata": {},
   "outputs": [
    {
     "name": "stdout",
     "output_type": "stream",
     "text": [
      "Training Set [x, Y] (3066, 100, 100, 3) (3066, 2)\n",
      "Dev Set [x, Y] (767, 100, 100, 3) (767, 2)\n"
     ]
    }
   ],
   "source": [
    "# Split the data into Train/Dev set\n",
    "# Using Train/Dev ratio as 4:1\n",
    "\n",
    "x_train, x_test, Y_train, Y_test = train_test_split(x, Y,\n",
    "                                                    test_size=0.2, stratify=Y,\n",
    "                                                    random_state=9\n",
    "                                                   )\n",
    "print('Training Set [x, Y]', x_train.shape, Y_train.shape)\n",
    "print('Dev Set [x, Y]', x_test.shape, Y_test.shape)"
   ]
  },
  {
   "cell_type": "code",
   "execution_count": 9,
   "metadata": {},
   "outputs": [
    {
     "name": "stdout",
     "output_type": "stream",
     "text": [
      "WARNING:tensorflow:`input_shape` is undefined or non-square, or `rows` is not in [96, 128, 160, 192, 224]. Weights for input shape (224, 224) will be loaded as the default.\n"
     ]
    }
   ],
   "source": [
    "# Lets Start Defining Our Model\n",
    "\n",
    "# Load the MobileNetV2 model excluding the Fully Connected Top Layer\n",
    "baseModel = MobileNetV2(weights=\"imagenet\", include_top=False,\n",
    "                        input_tensor=Input(shape=(100, 100, 3))\n",
    "                       )\n",
    "\n",
    "# Create Fully connected layers to be placed on top of the base model\n",
    "headModel = baseModel.output\n",
    "headModel = AveragePooling2D(pool_size=(3,3), padding='valid')(headModel)\n",
    "headModel = Flatten(name='Flatten')(headModel)\n",
    "headModel = Dense(32, activation='relu')(headModel)\n",
    "headModel = Dropout(0.5)(headModel)\n",
    "headModel = Dense(2, activation='softmax')(headModel)\n",
    "\n",
    "# Combine baseModel and headModel\n",
    "model = Model(inputs=baseModel.input, outputs=headModel)\n",
    "\n",
    "# Freezing all layers of the baseModel\n",
    "for layer in baseModel.layers:\n",
    "    layer.trainable = False\n",
    "model.compile(loss='binary_crossentropy', optimizer=OPTR, metrics=['accuracy'])"
   ]
  },
  {
   "cell_type": "code",
   "execution_count": 10,
   "metadata": {},
   "outputs": [
    {
     "name": "stdout",
     "output_type": "stream",
     "text": [
      "Epoch 1/15\n",
      "95/95 [==============================] - 23s 246ms/step - loss: 1.1429 - accuracy: 0.5704 - val_loss: 0.6385 - val_accuracy: 0.6726\n",
      "Epoch 2/15\n",
      "95/95 [==============================] - 23s 238ms/step - loss: 0.8665 - accuracy: 0.6493 - val_loss: 0.4989 - val_accuracy: 0.7609\n",
      "Epoch 3/15\n",
      "95/95 [==============================] - 23s 237ms/step - loss: 0.7185 - accuracy: 0.7024 - val_loss: 0.4047 - val_accuracy: 0.8166\n",
      "Epoch 4/15\n",
      "95/95 [==============================] - 22s 237ms/step - loss: 0.5778 - accuracy: 0.7442 - val_loss: 0.3403 - val_accuracy: 0.8492\n",
      "Epoch 5/15\n",
      "95/95 [==============================] - 22s 237ms/step - loss: 0.5021 - accuracy: 0.7729 - val_loss: 0.2956 - val_accuracy: 0.8818\n",
      "Epoch 6/15\n",
      "95/95 [==============================] - 23s 237ms/step - loss: 0.4292 - accuracy: 0.8144 - val_loss: 0.2624 - val_accuracy: 0.8954\n",
      "Epoch 7/15\n",
      "95/95 [==============================] - 22s 236ms/step - loss: 0.3850 - accuracy: 0.8336 - val_loss: 0.2360 - val_accuracy: 0.9035\n",
      "Epoch 8/15\n",
      "95/95 [==============================] - 23s 237ms/step - loss: 0.3484 - accuracy: 0.8487 - val_loss: 0.2151 - val_accuracy: 0.9239\n",
      "Epoch 9/15\n",
      "95/95 [==============================] - 23s 239ms/step - loss: 0.3191 - accuracy: 0.8645 - val_loss: 0.1989 - val_accuracy: 0.9280\n",
      "Epoch 10/15\n",
      "95/95 [==============================] - 23s 238ms/step - loss: 0.2909 - accuracy: 0.8777 - val_loss: 0.1845 - val_accuracy: 0.9389\n",
      "Epoch 11/15\n",
      "95/95 [==============================] - 23s 237ms/step - loss: 0.2797 - accuracy: 0.8797 - val_loss: 0.1718 - val_accuracy: 0.9416\n",
      "Epoch 12/15\n",
      "95/95 [==============================] - 23s 240ms/step - loss: 0.2580 - accuracy: 0.8919 - val_loss: 0.1609 - val_accuracy: 0.9470\n",
      "Epoch 13/15\n",
      "95/95 [==============================] - 23s 241ms/step - loss: 0.2416 - accuracy: 0.9034 - val_loss: 0.1507 - val_accuracy: 0.9457\n",
      "Epoch 14/15\n",
      "95/95 [==============================] - 23s 240ms/step - loss: 0.2231 - accuracy: 0.9090 - val_loss: 0.1424 - val_accuracy: 0.9470\n",
      "Epoch 15/15\n",
      "95/95 [==============================] - 23s 240ms/step - loss: 0.2227 - accuracy: 0.9090 - val_loss: 0.1349 - val_accuracy: 0.9497\n"
     ]
    }
   ],
   "source": [
    "DeepFace = model.fit(x_train, Y_train, batch_size=BATCH_SIZE,\n",
    "                     steps_per_epoch = len(x_train) // BATCH_SIZE,\n",
    "                     validation_data=(x_test, Y_test),\n",
    "                     validation_steps = len(x_test) // BATCH_SIZE,\n",
    "                     epochs=EPOCHS\n",
    "                    )"
   ]
  },
  {
   "cell_type": "code",
   "execution_count": 11,
   "metadata": {},
   "outputs": [
    {
     "data": {
      "image/png": "[encoded data removed]",
      "text/plain": [
       "<Figure size 432x288 with 1 Axes>"
      ]
     },
     "metadata": {
      "needs_background": "light"
     },
     "output_type": "display_data"
    }
   ],
   "source": [
    "plt.plot(DeepFace.history['loss'],'r',label='Training Loss')\n",
    "plt.plot(DeepFace.history['val_loss'],label='Validation Loss')\n",
    "plt.xlabel('EPOCHS')\n",
    "plt.ylabel('LOSS')\n",
    "plt.legend()\n",
    "plt.show()"
   ]
  },
  {
   "cell_type": "code",
   "execution_count": 12,
   "metadata": {},
   "outputs": [
    {
     "data": {
      "image/png": "[encoded data removed]",
      "text/plain": [
       "<Figure size 432x288 with 1 Axes>"
      ]
     },
     "metadata": {
      "needs_background": "light"
     },
     "output_type": "display_data"
    }
   ],
   "source": [
    "plt.plot(DeepFace.history['accuracy'],'r',label='Training Accuracy')\n",
    "plt.plot(DeepFace.history['val_accuracy'],label='Validation Accuracy')\n",
    "plt.xlabel('EPOCHS')\n",
    "plt.ylabel('LOSS')\n",
    "plt.legend()\n",
    "plt.show()"
   ]
  },
  {
   "cell_type": "code",
   "execution_count": 13,
   "metadata": {},
   "outputs": [],
   "source": [
    "model.save('DeepFaceMask.model', save_format=\"h5\")"
   ]
  }
 ],
 "metadata": {
  "kernelspec": {
   "display_name": "Python 3",
   "language": "python",
   "name": "python3"
  },
  "language_info": {
   "codemirror_mode": {
    "name": "ipython",
    "version": 3
   },
   "file_extension": ".py",
   "mimetype": "text/x-python",
   "name": "python",
   "nbconvert_exporter": "python",
   "pygments_lexer": "ipython3",
   "version": "3.7.4"
  }
 },
 "nbformat": 4,
 "nbformat_minor": 2
}
