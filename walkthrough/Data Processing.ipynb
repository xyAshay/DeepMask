{
 "cells": [
  {
   "cell_type": "code",
   "execution_count": 36,
   "metadata": {},
   "outputs": [],
   "source": [
    "# Import Necessary Packages\n",
    "\n",
    "from tensorflow.keras.preprocessing.image import load_img, img_to_array, array_to_img\n",
    "from tensorflow.keras.applications.mobilenet_v2 import preprocess_input\n",
    "from tensorflow.keras.utils import to_categorical\n",
    "from sklearn.preprocessing import LabelBinarizer\n",
    "from tqdm.notebook import tqdm\n",
    "from imutils import paths\n",
    "import numpy as np\n",
    "import os"
   ]
  },
  {
   "cell_type": "code",
   "execution_count": 37,
   "metadata": {},
   "outputs": [
    {
     "data": {
      "application/vnd.jupyter.widget-view+json": {
       "model_id": "4d5bb8f79ad4470692c2916df3caa746",
       "version_major": 2,
       "version_minor": 0
      },
      "text/plain": [
       "HBox(children=(IntProgress(value=0, description='Processing Images s', max=3833, style=ProgressStyle(descripti…"
      ]
     },
     "metadata": {},
     "output_type": "display_data"
    },
    {
     "name": "stderr",
     "output_type": "stream",
     "text": [
      "/home/ashay/.local/lib/python3.7/site-packages/PIL/Image.py:961: UserWarning: Palette images with Transparency expressed in bytes should be converted to RGBA images\n",
      "  \"Palette images with Transparency expressed in bytes should be \"\n"
     ]
    },
    {
     "name": "stdout",
     "output_type": "stream",
     "text": [
      "\n"
     ]
    }
   ],
   "source": [
    "# Load Images\n",
    "\n",
    "images = list(paths.list_images(\"dataset\"))\n",
    "x = []\n",
    "Y = []\n",
    "\n",
    "for image in tqdm(images, desc=\"Processing Images \"):\n",
    "    label = image.split(os.path.sep)[-2]\n",
    "    \n",
    "    img = load_img(image, target_size=(100,100))\n",
    "    img = img_to_array(img)\n",
    "    img = preprocess_input(img)\n",
    "    \n",
    "    x.append(img)\n",
    "    Y.append(label)"
   ]
  },
  {
   "cell_type": "code",
   "execution_count": 38,
   "metadata": {},
   "outputs": [
    {
     "name": "stdout",
     "output_type": "stream",
     "text": [
      "(3833, 100, 100, 3)\n",
      "(3833,)\n"
     ]
    }
   ],
   "source": [
    "x_arr = np.array(x, dtype='float32')\n",
    "Y_arr = np.array(Y)\n",
    "print(x_arr.shape)\n",
    "print(Y_arr.shape)"
   ]
  },
  {
   "cell_type": "code",
   "execution_count": 48,
   "metadata": {},
   "outputs": [
    {
     "data": {
      "image/png": "[encoded data removed]",
      "text/plain": [
       "<PIL.Image.Image image mode=RGB size=100x100 at 0x7F3544839310>"
      ]
     },
     "execution_count": 48,
     "metadata": {},
     "output_type": "execute_result"
    }
   ],
   "source": [
    "# Unrolling Images\n",
    "\n",
    "test = array_to_img(x_arr[np.random.randint(3833), :, :, :], scale=True)\n",
    "test"
   ]
  },
  {
   "cell_type": "code",
   "execution_count": 49,
   "metadata": {},
   "outputs": [
    {
     "name": "stdout",
     "output_type": "stream",
     "text": [
      "(3833, 2)\n"
     ]
    }
   ],
   "source": [
    "# Processing target Labels to One-Hot Encoding\n",
    "\n",
    "binarizer = LabelBinarizer()\n",
    "y_arr = binarizer.fit_transform(Y_arr)\n",
    "y_arr = to_categorical(y_arr)\n",
    "print(y_arr.shape)"
   ]
  },
  {
   "cell_type": "code",
   "execution_count": 50,
   "metadata": {},
   "outputs": [
    {
     "name": "stdout",
     "output_type": "stream",
     "text": [
      "Raw Data Saved to disc\n"
     ]
    }
   ],
   "source": [
    "np.save('X_RAW.npy', x_arr)\n",
    "np.save('Y_RAW.npy', y_arr)\n",
    "print(\"Raw Data Saved to disc\")"
   ]
  }
 ],
 "metadata": {
  "kernelspec": {
   "display_name": "Python 3",
   "language": "python",
   "name": "python3"
  },
  "language_info": {
   "codemirror_mode": {
    "name": "ipython",
    "version": 3
   },
   "file_extension": ".py",
   "mimetype": "text/x-python",
   "name": "python",
   "nbconvert_exporter": "python",
   "pygments_lexer": "ipython3",
   "version": "3.7.4"
  }
 },
 "nbformat": 4,
 "nbformat_minor": 2
}
